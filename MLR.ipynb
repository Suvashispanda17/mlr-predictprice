{
 "cells": [
  {
   "cell_type": "code",
   "execution_count": 1,
   "id": "0ad05987-8de5-4e27-8cea-f2ecfa13e2e6",
   "metadata": {},
   "outputs": [],
   "source": [
    "# this is same linear regression based on multiple dependent variables \n",
    "\n",
    "# area  bedrooms  age(home)  price  \n"
   ]
  },
  {
   "cell_type": "code",
   "execution_count": 2,
   "id": "5196cf14-5ac4-4699-a5cc-7461cac0b43a",
   "metadata": {},
   "outputs": [],
   "source": [
    "import pandas as pd \n",
    "from matplotlib import pyplot  as plt \n",
    "from sklearn import linear_model"
   ]
  },
  {
   "cell_type": "code",
   "execution_count": 3,
   "id": "122f886a-8226-4fc5-ab0e-fb004c8f5a76",
   "metadata": {},
   "outputs": [
    {
     "data": {
      "text/html": [
       "<div>\n",
       "<style scoped>\n",
       "    .dataframe tbody tr th:only-of-type {\n",
       "        vertical-align: middle;\n",
       "    }\n",
       "\n",
       "    .dataframe tbody tr th {\n",
       "        vertical-align: top;\n",
       "    }\n",
       "\n",
       "    .dataframe thead th {\n",
       "        text-align: right;\n",
       "    }\n",
       "</style>\n",
       "<table border=\"1\" class=\"dataframe\">\n",
       "  <thead>\n",
       "    <tr style=\"text-align: right;\">\n",
       "      <th></th>\n",
       "      <th>area</th>\n",
       "      <th>bedrooms</th>\n",
       "      <th>age(house)</th>\n",
       "      <th>price</th>\n",
       "    </tr>\n",
       "  </thead>\n",
       "  <tbody>\n",
       "    <tr>\n",
       "      <th>0</th>\n",
       "      <td>200</td>\n",
       "      <td>4</td>\n",
       "      <td>10</td>\n",
       "      <td>60000</td>\n",
       "    </tr>\n",
       "    <tr>\n",
       "      <th>1</th>\n",
       "      <td>300</td>\n",
       "      <td>5</td>\n",
       "      <td>20</td>\n",
       "      <td>45000</td>\n",
       "    </tr>\n",
       "    <tr>\n",
       "      <th>2</th>\n",
       "      <td>400</td>\n",
       "      <td>6</td>\n",
       "      <td>30</td>\n",
       "      <td>30000</td>\n",
       "    </tr>\n",
       "    <tr>\n",
       "      <th>3</th>\n",
       "      <td>500</td>\n",
       "      <td>7</td>\n",
       "      <td>40</td>\n",
       "      <td>15000</td>\n",
       "    </tr>\n",
       "  </tbody>\n",
       "</table>\n",
       "</div>"
      ],
      "text/plain": [
       "   area  bedrooms  age(house)  price\n",
       "0   200         4          10  60000\n",
       "1   300         5          20  45000\n",
       "2   400         6          30  30000\n",
       "3   500         7          40  15000"
      ]
     },
     "execution_count": 3,
     "metadata": {},
     "output_type": "execute_result"
    }
   ],
   "source": [
    "df= pd.read_csv(\"MLR.csv\")\n",
    "\n",
    "df\n"
   ]
  },
  {
   "cell_type": "code",
   "execution_count": 4,
   "id": "d7d3e28e-2127-42eb-992c-38c1ddef2965",
   "metadata": {},
   "outputs": [
    {
     "data": {
      "text/plain": [
       "<matplotlib.collections.PathCollection at 0x25f4cc53020>"
      ]
     },
     "execution_count": 4,
     "metadata": {},
     "output_type": "execute_result"
    },
    {
     "data": {
      "image/png": "[encoded data removed]",
      "text/plain": [
       "<Figure size 640x480 with 1 Axes>"
      ]
     },
     "metadata": {},
     "output_type": "display_data"
    }
   ],
   "source": [
    "%matplotlib inline\n",
    "plt.xlabel(\"price in RS.\")\n",
    "plt.ylabel(\"AREA(gazz)\")\n",
    "\n",
    "plt.scatter(df.area,df.price, marker = \"+\",color = \"purple\")\n",
    "# plt.plot(df.area, df.price, color = \"red\") # without prediction "
   ]
  },
  {
   "cell_type": "code",
   "execution_count": 5,
   "id": "9a8d750c-2960-44f0-9479-129e3d6d2b9a",
   "metadata": {},
   "outputs": [
    {
     "name": "stdout",
     "output_type": "stream",
     "text": [
      "the regression is : LinearRegression()\n",
      " the coefficients : [-148.5001485    -1.48500149  -14.85001485]\n",
      " the  B is y intercept 'price ' : 89854.46985446985\n"
     ]
    }
   ],
   "source": [
    "reg = linear_model.LinearRegression()\n",
    "reg.fit(df[[\"area\", \"bedrooms\", \"age(house)\"]],df.price)\n",
    "print(f\"the regression is : {reg}\\n the coefficients : {reg.coef_}\\n the  B is y intercept 'price ' : {reg.intercept_}\")"
   ]
  },
  {
   "cell_type": "code",
   "execution_count": 6,
   "id": "5327b710-1042-4558-99be-31b950c5fe46",
   "metadata": {},
   "outputs": [
    {
     "name": "stderr",
     "output_type": "stream",
     "text": [
      "C:\\Users\\suvas\\AppData\\Local\\Programs\\Python\\Python312\\Lib\\site-packages\\sklearn\\base.py:493: UserWarning: X does not have valid feature names, but LinearRegression was fitted with feature names\n",
      "  warnings.warn(\n"
     ]
    },
    {
     "data": {
      "text/plain": [
       "array([45850.90585091])"
      ]
     },
     "execution_count": 6,
     "metadata": {},
     "output_type": "execute_result"
    }
   ],
   "source": [
    "# multiple independent variables work in y = m1x1 + m2x2 + m3x3 + b\n",
    "reg.predict([[296,2,3]])"
   ]
  },
  {
   "cell_type": "code",
   "execution_count": 7,
   "id": "6f2ed9e7-bfba-4600-8e67-5eb54f4f582f",
   "metadata": {},
   "outputs": [
    {
     "data": {
      "text/plain": [
       "[<matplotlib.lines.Line2D at 0x25f73df8c80>]"
      ]
     },
     "execution_count": 7,
     "metadata": {},
     "output_type": "execute_result"
    },
    {
     "data": {
      "image/png": "[encoded data removed]",
      "text/plain": [
       "<Figure size 640x480 with 1 Axes>"
      ]
     },
     "metadata": {},
     "output_type": "display_data"
    }
   ],
   "source": [
    "%matplotlib inline\n",
    "plt.xlabel(\"price in RS.\")\n",
    "plt.ylabel(\"AREA(gazz)\")\n",
    "\n",
    "plt.scatter(df.area,df.price, marker = \"+\",color = \"purple\")\n",
    "predicted_prices = reg.predict(df[[\"area\", \"bedrooms\", \"age(house)\"]])\n",
    "plt.plot(df.area, predicted_prices, color=\"red\")"
   ]
  },
  {
   "cell_type": "code",
   "execution_count": null,
   "id": "40241d05-33d2-4748-b260-92d96db9d1c9",
   "metadata": {},
   "outputs": [],
   "source": []
  }
 ],
 "metadata": {
  "kernelspec": {
   "display_name": "Python 3 (ipykernel)",
   "language": "python",
   "name": "python3"
  },
  "language_info": {
   "codemirror_mode": {
    "name": "ipython",
    "version": 3
   },
   "file_extension": ".py",
   "mimetype": "text/x-python",
   "name": "python",
   "nbconvert_exporter": "python",
   "pygments_lexer": "ipython3",
   "version": "3.12.3"
  }
 },
 "nbformat": 4,
 "nbformat_minor": 5
}
